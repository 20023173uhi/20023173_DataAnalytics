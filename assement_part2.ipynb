{
  "nbformat": 4,
  "nbformat_minor": 0,
  "metadata": {
    "colab": {
      "name": "assement part2",
      "provenance": [],
      "collapsed_sections": [],
      "include_colab_link": true
    },
    "kernelspec": {
      "name": "python3",
      "display_name": "Python 3"
    }
  },
  "cells": [
    {
      "cell_type": "markdown",
      "metadata": {
        "id": "view-in-github",
        "colab_type": "text"
      },
      "source": [
        "<a href=\"https://colab.research.google.com/github/20023173uhi/20023173_DataAnalytics/blob/main/assement_part2.ipynb\" target=\"_parent\"><img src=\"https://colab.research.google.com/assets/colab-badge.svg\" alt=\"Open In Colab\"/></a>"
      ]
    },
    {
      "cell_type": "markdown",
      "metadata": {
        "id": "lnBjLpbSOwus"
      },
      "source": [
        "**Assesment part 2**\r\n",
        "\r\n",
        "In this part of the excercise, Python is used to train and test linear regressor. The use of linear regressor is a linear approach to modelling the relationship between a scalar response and one or more explanatory variables - dependent and independent variables. It may be considered to be the next step up in modelling from correlation.\r\n",
        "The theory of regression analysis has underlying elegant mathematics and a well developed statistical theory going back about two hundred years [REF Montgomery *et.al.*(2012) Introduction to Linear Regression Analysis 4th ed. John Wiley & sons ] but computer models play an importent role in modern regression analysis.   \r\n",
        "\r\n",
        "The data set used in this section of the excercise comes from *part one* of this two part excercise, collating traffic collision & corresponding weather variables from New York City. The methods of obtaining, cleaning and checking this data set can be found in \"assesment part1\" and fitting with the requiremnts of this type of model, efforts have been made to retain as much of the data as possible [Molnar, C. (2020) Interpretable Machine Learning. Leanpub.]  \r\n",
        "\r\n",
        "Note - Now working in Python rather than R. "
      ]
    },
    {
      "cell_type": "code",
      "metadata": {
        "id": "UaSwPSQoOcJY"
      },
      "source": [
        "import pandas as pd  #for data analysis and manipulation tools\r\n",
        "import numpy as np  #support for large, multi-dimensional arrays and matrices  \r\n",
        "                    #and high-level mathematical functions to operate on these arrays\r\n",
        "\r\n"
      ],
      "execution_count": null,
      "outputs": []
    },
    {
      "cell_type": "code",
      "metadata": {
        "id": "rUsDcN_vO2pX",
        "colab": {
          "base_uri": "https://localhost:8080/"
        },
        "outputId": "dad7f973-9408-4437-87e9-9ae7edb958ea"
      },
      "source": [
        "collisiondf = pd.read_csv( 'https://raw.githubusercontent.com/20023173uhi/20023173_DataAnalytics/main/collisionsdnn.csv', index_col=0,) #import csv from part one of assesment\r\n",
        "print(collisiondf) # to check   \r\n",
        "SCALE = 800"
      ],
      "execution_count": null,
      "outputs": [
        {
          "output_type": "stream",
          "text": [
            "      Fri  Mon  Sat  Sun  Thur  ...  visib  prcp   temp  wdsp  collisions\n",
            "1       1    0    0    0     0  ...    6.5  0.00  32.95   3.3         523\n",
            "2       0    1    0    0     0  ...    9.5  0.01  48.45   9.2         473\n",
            "3       0    0    0    0     0  ...   10.0  0.00  33.55   8.0         402\n",
            "4       0    0    0    0     0  ...    8.2  0.02  43.10   5.4         506\n",
            "5       0    0    0    0     1  ...   10.0  0.00  29.45   9.4         522\n",
            "...   ...  ...  ...  ...   ...  ...    ...   ...    ...   ...         ...\n",
            "2725    1    0    0    0     0  ...    7.1  0.56  47.45   9.4         751\n",
            "2726    1    0    0    0     0  ...   10.0  0.00  17.95  17.8         792\n",
            "2727    0    0    0    0     1  ...    6.0  0.84  42.55  12.4         525\n",
            "2728    0    0    0    1     0  ...    8.0  1.96  44.55  25.0         493\n",
            "2729    0    0    0    1     0  ...    8.8  1.90  36.75  11.9         411\n",
            "\n",
            "[2729 rows x 27 columns]\n"
          ],
          "name": "stdout"
        }
      ]
    },
    {
      "cell_type": "markdown",
      "metadata": {
        "id": "ejSDwnn5RjUe"
      },
      "source": [
        "\r\n",
        "Introducing a random selection of part of the data - this is done by use of a combination of iloc( integer-location based indexing for selection by position) and random number sequence which is based upon the length of the dataset used. "
      ]
    },
    {
      "cell_type": "code",
      "metadata": {
        "id": "Qo9sYoMdUGOP",
        "colab": {
          "base_uri": "https://localhost:8080/"
        },
        "outputId": "65831a67-ae93-49b3-c11b-04c80ede6151"
      },
      "source": [
        "shuffled_df = collisiondf.iloc [np.random.permutation(len(collisiondf))] \r\n",
        "print(shuffled_df[:10]) # no longer from 1 > 2729, but now using a random index"
      ],
      "execution_count": null,
      "outputs": [
        {
          "output_type": "stream",
          "text": [
            "      Fri  Mon  Sat  Sun  Thur  ...  visib  prcp   temp  wdsp  collisions\n",
            "1389    0    0    0    0     0  ...    4.2  0.00  72.50   7.6         747\n",
            "116     0    0    0    0     0  ...    4.4  0.03  42.60  12.4         497\n",
            "1395    1    0    0    0     0  ...   10.0  0.00  71.10   7.5         490\n",
            "1852    0    0    0    1     0  ...    9.0  0.22  63.70   6.4         480\n",
            "2453    0    0    0    0     0  ...   10.0  0.00  38.50  15.1         765\n",
            "355     0    1    0    0     0  ...   10.0  0.02  37.50  14.4         567\n",
            "154     1    0    0    0     0  ...   10.0  0.00  26.50  14.4         677\n",
            "994     0    1    0    0     0  ...   10.0  0.03  62.00   9.6         652\n",
            "1578    1    0    0    0     0  ...    9.0  0.01  66.45   5.3         667\n",
            "1530    0    0    0    0     0  ...    5.1  0.02  69.95  12.3         569\n",
            "\n",
            "[10 rows x 27 columns]\n"
          ],
          "name": "stdout"
        }
      ]
    },
    {
      "cell_type": "markdown",
      "metadata": {
        "id": "1D4gj2z-LB8Q"
      },
      "source": [
        "Now that the data has been imported and shuffled, prior to running the model, a section of data should be removed, and this data can then be used to test the model after training.\r\n",
        "\r\n",
        "For this purpose, the first 100 rows of the shuffled dataframe are cut from the dataframe.\r\n",
        "This value of 100 was arbitarily chosen as likely to produce enough values for each of the seven days of the week, but not large enough to have an effect upon the size of the data used to train the model.\r\n",
        "    \r\n",
        " "
      ]
    },
    {
      "cell_type": "code",
      "metadata": {
        "colab": {
          "base_uri": "https://localhost:8080/"
        },
        "id": "sAbJDCUhLjo1",
        "outputId": "bbce6cd5-1cee-4cc1-e09c-c81ff643a6fe"
      },
      "source": [
        "num_model_testings_rows = 100  # the rowns held back for later testing\r\n",
        "model_testing_df = shuffled_df.head(num_model_testings_rows)\r\n",
        "print(model_testing_df)"
      ],
      "execution_count": null,
      "outputs": [
        {
          "output_type": "stream",
          "text": [
            "      Fri  Mon  Sat  Sun  Thur  ...  visib  prcp   temp  wdsp  collisions\n",
            "1389    0    0    0    0     0  ...    4.2  0.00  72.50   7.6         747\n",
            "116     0    0    0    0     0  ...    4.4  0.03  42.60  12.4         497\n",
            "1395    1    0    0    0     0  ...   10.0  0.00  71.10   7.5         490\n",
            "1852    0    0    0    1     0  ...    9.0  0.22  63.70   6.4         480\n",
            "2453    0    0    0    0     0  ...   10.0  0.00  38.50  15.1         765\n",
            "...   ...  ...  ...  ...   ...  ...    ...   ...    ...   ...         ...\n",
            "803     0    0    1    0     0  ...    5.6  0.13  61.00   9.3         649\n",
            "1729    0    0    0    0     0  ...   10.0  0.01  71.70   4.7         550\n",
            "1551    0    0    0    1     0  ...    9.8  0.01  69.45   4.6         512\n",
            "933     1    0    0    0     0  ...    6.7  0.02  63.05   9.0         736\n",
            "846     0    0    0    0     0  ...    1.9  0.70  48.05  14.7         606\n",
            "\n",
            "[100 rows x 27 columns]\n"
          ],
          "name": "stdout"
        }
      ]
    },
    {
      "cell_type": "code",
      "metadata": {
        "colab": {
          "base_uri": "https://localhost:8080/"
        },
        "id": "H7Xuk6QsMPTI",
        "outputId": "8a70c370-c59b-4580-d6d6-6153fac34351"
      },
      "source": [
        "shuffled_df = shuffled_df[num_model_testings_rows:] # reducing the dataframe by these retained rows above \r\n",
        "print(shuffled_df) # check that the data frame is reduced from the orginal 2729 by the required no.\r\n",
        "\r\n"
      ],
      "execution_count": null,
      "outputs": [
        {
          "output_type": "stream",
          "text": [
            "      Fri  Mon  Sat  Sun  Thur  ...  visib  prcp   temp  wdsp  collisions\n",
            "2228    0    0    1    0     0  ...   10.0  0.00  59.45  13.2         556\n",
            "2112    0    0    1    0     0  ...    7.0  0.01  66.00   5.2         500\n",
            "745     0    0    0    1     0  ...   10.0  0.24  43.95  11.7         471\n",
            "1316    0    0    0    0     0  ...    9.9  0.00  75.45   5.6         609\n",
            "23      0    0    0    0     0  ...    2.6  0.08  35.25   4.9         542\n",
            "...   ...  ...  ...  ...   ...  ...    ...   ...    ...   ...         ...\n",
            "627     0    0    1    0     0  ...   10.0  0.02  38.50  15.9         488\n",
            "465     0    0    0    1     0  ...   10.0  0.00  32.00   3.1         500\n",
            "1359    1    0    0    0     0  ...   10.0  0.02  66.45   8.5         685\n",
            "599     0    0    1    0     0  ...    7.8  0.24  36.40  12.7         459\n",
            "43      0    0    0    0     0  ...   10.0  0.00  32.00   7.9         495\n",
            "\n",
            "[2629 rows x 27 columns]\n"
          ],
          "name": "stdout"
        }
      ]
    },
    {
      "cell_type": "markdown",
      "metadata": {
        "id": "0ej2eAKhGywS"
      },
      "source": [
        "In order to model for a selection of variables, the \"predictors\" specified below are selected form the dataset using their column. For each combination of variables used, the model saved is renamed accordingly  "
      ]
    },
    {
      "cell_type": "code",
      "metadata": {
        "id": "uHFMPq2zGBdP",
        "colab": {
          "base_uri": "https://localhost:8080/"
        },
        "outputId": "786436e8-2f62-4e3f-9805-9a0ed6f418fe"
      },
      "source": [
        "#predictors = shuffled_df.iloc[:,0:26] # all columns apart from the collsions  checked\r\n",
        "#predictors = shuffled_df.iloc[ :,[1,2,3,4,5,6,7,21,22] ] # with dewp & pressr and days checked\r\n",
        "#redictors = shuffled_df.iloc [:, [0,1,2,3,4,5,6,21] ] # with pressure checked\r\n",
        "#predictors = shuffled_df.iloc [:, [0,1,2,3,4,5,6,22,23] ] # with visb and prcp checked\r\n",
        "#predictors = shuffled_df.iloc [:, [0,1,2,3,4,5,6,22 ] ]# with visb checked\r\n",
        "#predictors = shuffled_df.iloc [:, [0,1,2,3,4,5,6] ] # juat the days\r\n",
        "#predictors = shuffled_df.iloc [:, [0,1,2,3,4,5,6, 23] ] # with prec  \r\n",
        "#predictors = shuffled_df.iloc [:, [0,1,2,3,4,5,6, 24] ] # temp\r\n",
        "predictors = shuffled_df.iloc [:, [0,1,2,3,4,5,6, 25] ] # wind speed\r\n",
        "\r\n",
        "print(predictors[:6]) # taking a look at first 6 rows for each new variable selection"
      ],
      "execution_count": null,
      "outputs": [
        {
          "output_type": "stream",
          "text": [
            "      Fri  Mon  Sat  Sun  Thur  Tue  Wed  wdsp\n",
            "2228    0    0    1    0     0    0    0  13.2\n",
            "2112    0    0    1    0     0    0    0   5.2\n",
            "745     0    0    0    1     0    0    0  11.7\n",
            "1316    0    0    0    0     0    0    1   5.6\n",
            "23      0    0    0    0     0    1    0   4.9\n",
            "1663    0    0    0    1     0    0    0   9.9\n"
          ],
          "name": "stdout"
        }
      ]
    },
    {
      "cell_type": "code",
      "metadata": {
        "id": "TS-VRlNsIhvp",
        "colab": {
          "base_uri": "https://localhost:8080/"
        },
        "outputId": "f32ddf50-979b-43f8-90b6-695fc678296f"
      },
      "source": [
        "print(predictors.values)"
      ],
      "execution_count": null,
      "outputs": [
        {
          "output_type": "stream",
          "text": [
            "[[ 0.   0.   1.  ...  0.   0.  13.2]\n",
            " [ 0.   0.   1.  ...  0.   0.   5.2]\n",
            " [ 0.   0.   0.  ...  0.   0.  11.7]\n",
            " ...\n",
            " [ 1.   0.   0.  ...  0.   0.   8.5]\n",
            " [ 0.   0.   1.  ...  0.   0.  12.7]\n",
            " [ 0.   0.   0.  ...  0.   1.   7.9]]\n"
          ],
          "name": "stdout"
        }
      ]
    },
    {
      "cell_type": "markdown",
      "metadata": {
        "id": "9tszA6jwVjML"
      },
      "source": [
        "The single target variable used in this model is the daily number of collsions.\r\n",
        "\r\n"
      ]
    },
    {
      "cell_type": "code",
      "metadata": {
        "id": "fStkVcinI0-W",
        "colab": {
          "base_uri": "https://localhost:8080/"
        },
        "outputId": "ba5fa96a-9e33-49f9-b440-2db0b91d2d7c"
      },
      "source": [
        "target = shuffled_df.iloc[:,26] # selecting the collisions column\r\n",
        "print(target[:10]/SCALE) # checking "
      ],
      "execution_count": null,
      "outputs": [
        {
          "output_type": "stream",
          "text": [
            "2228    0.69500\n",
            "2112    0.62500\n",
            "745     0.58875\n",
            "1316    0.76125\n",
            "23      0.67750\n",
            "1663    0.67500\n",
            "612     0.72250\n",
            "1681    0.73375\n",
            "1043    0.85750\n",
            "2177    0.64375\n",
            "Name: collisions, dtype: float64\n"
          ],
          "name": "stdout"
        }
      ]
    },
    {
      "cell_type": "code",
      "metadata": {
        "id": "yWCuEm99ODSG"
      },
      "source": [
        "# to split the previously shuffled data into a training set\r\n",
        "training_set = int(len(shuffled_df['collisions'])*0.8) # cast to int.\r\n",
        "testing_set = len(shuffled_df['collisions']) - training_set\r\n",
        "\r\n"
      ],
      "execution_count": null,
      "outputs": []
    },
    {
      "cell_type": "code",
      "metadata": {
        "colab": {
          "base_uri": "https://localhost:8080/"
        },
        "id": "yL6rrmfNPm-q",
        "outputId": "ba133477-c933-4a73-8b2f-d0a89b98a042"
      },
      "source": [
        "num_predictors = len(predictors) #number of imput values\r\n",
        "print(num_predictors) # to check \r\n",
        "num_target = 1  \r\n",
        "print(num_target) # checking "
      ],
      "execution_count": null,
      "outputs": [
        {
          "output_type": "stream",
          "text": [
            "2629\n",
            "1\n"
          ],
          "name": "stdout"
        }
      ]
    },
    {
      "cell_type": "code",
      "metadata": {
        "id": "XOdEziJNSZf1",
        "colab": {
          "base_uri": "https://localhost:8080/"
        },
        "outputId": "e3237968-3841-419a-e8e8-dc538f503103"
      },
      "source": [
        "#importing tensorflow for numerical computing.\r\n",
        "%tensorflow_version 1.x  # to allow use of deprecated method \r\n",
        "import tensorflow as tf #main object that is passed in tf.Tensor\r\n",
        "\r\n",
        "import shutil # module offers high-level operations on files and collections of files\r\n",
        "tf.compat.v1.logging.set_verbosity(tf.compat.v1.logging.INFO) # logging for tensorflow"
      ],
      "execution_count": null,
      "outputs": [
        {
          "output_type": "stream",
          "text": [
            "`%tensorflow_version` only switches the major version: 1.x or 2.x.\n",
            "You set: `1.x  # to allow use of deprecated method`. This will be interpreted as: `1.x`.\n",
            "\n",
            "\n",
            "TensorFlow 1.x selected.\n"
          ],
          "name": "stdout"
        }
      ]
    },
    {
      "cell_type": "code",
      "metadata": {
        "id": "HdCzzSJtcmri"
      },
      "source": [
        "shutil.rmtree('/tmp/linear_regression_trained_model_windspeed',ignore_errors= True ) #saving model re. predictors selected above"
      ],
      "execution_count": null,
      "outputs": []
    },
    {
      "cell_type": "code",
      "metadata": {
        "id": "bvMqu6iqbZZo",
        "colab": {
          "base_uri": "https://localhost:8080/"
        },
        "outputId": "e6076e06-aa58-46f8-b8b3-9beff8cd9517"
      },
      "source": [
        "estimator = tf.contrib.learn.SKCompat(\r\n",
        "    tf.contrib.learn.LinearRegressor(\r\n",
        "        model_dir = '/tmp/linear_regression_trained_model_windspeed',\r\n",
        "        optimizer=tf.train.AdamOptimizer(learning_rate = 0.5)\r\n",
        "        , enable_centered_bias=False, \r\n",
        "        feature_columns=tf.contrib.learn.infer_real_valued_columns_from_input(predictors.values)))\r\n"
      ],
      "execution_count": null,
      "outputs": [
        {
          "output_type": "stream",
          "text": [
            "WARNING:tensorflow:\n",
            "The TensorFlow contrib module will not be included in TensorFlow 2.0.\n",
            "For more information, please see:\n",
            "  * https://github.com/tensorflow/community/blob/master/rfcs/20180907-contrib-sunset.md\n",
            "  * https://github.com/tensorflow/addons\n",
            "  * https://github.com/tensorflow/io (for I/O related ops)\n",
            "If you depend on functionality not listed there, please file an issue.\n",
            "\n",
            "WARNING:tensorflow:From <ipython-input-13-2d77c726fa99>:6: infer_real_valued_columns_from_input (from tensorflow.contrib.learn.python.learn.estimators.estimator) is deprecated and will be removed in a future version.\n",
            "Instructions for updating:\n",
            "Please specify feature columns explicitly.\n",
            "WARNING:tensorflow:From /tensorflow-1.15.2/python3.6/tensorflow_core/contrib/learn/python/learn/estimators/estimator.py:143: setup_train_data_feeder (from tensorflow.contrib.learn.python.learn.learn_io.data_feeder) is deprecated and will be removed in a future version.\n",
            "Instructions for updating:\n",
            "Please use tensorflow/transform or tf.data.\n",
            "WARNING:tensorflow:From /tensorflow-1.15.2/python3.6/tensorflow_core/contrib/learn/python/learn/learn_io/data_feeder.py:100: extract_pandas_data (from tensorflow.contrib.learn.python.learn.learn_io.pandas_io) is deprecated and will be removed in a future version.\n",
            "Instructions for updating:\n",
            "Please access pandas data directly.\n",
            "WARNING:tensorflow:From /tensorflow-1.15.2/python3.6/tensorflow_core/contrib/learn/python/learn/learn_io/data_feeder.py:159: DataFeeder.__init__ (from tensorflow.contrib.learn.python.learn.learn_io.data_feeder) is deprecated and will be removed in a future version.\n",
            "Instructions for updating:\n",
            "Please use tensorflow/transform or tf.data.\n",
            "WARNING:tensorflow:From /tensorflow-1.15.2/python3.6/tensorflow_core/contrib/learn/python/learn/learn_io/data_feeder.py:340: check_array (from tensorflow.contrib.learn.python.learn.learn_io.data_feeder) is deprecated and will be removed in a future version.\n",
            "Instructions for updating:\n",
            "Please convert numpy dtypes explicitly.\n",
            "WARNING:tensorflow:float64 is not supported by many models, consider casting to float32.\n",
            "WARNING:tensorflow:From /tensorflow-1.15.2/python3.6/tensorflow_core/contrib/learn/python/learn/estimators/estimator.py:183: infer_real_valued_columns_from_input_fn (from tensorflow.contrib.learn.python.learn.estimators.estimator) is deprecated and will be removed in a future version.\n",
            "Instructions for updating:\n",
            "Please specify feature columns explicitly.\n",
            "WARNING:tensorflow:From /tensorflow-1.15.2/python3.6/tensorflow_core/contrib/learn/python/learn/estimators/linear.py:740: regression_head (from tensorflow.contrib.learn.python.learn.estimators.head) is deprecated and will be removed in a future version.\n",
            "Instructions for updating:\n",
            "Please switch to tf.contrib.estimator.*_head.\n",
            "WARNING:tensorflow:From /tensorflow-1.15.2/python3.6/tensorflow_core/contrib/learn/python/learn/estimators/estimator.py:1180: BaseEstimator.__init__ (from tensorflow.contrib.learn.python.learn.estimators.estimator) is deprecated and will be removed in a future version.\n",
            "Instructions for updating:\n",
            "Please replace uses of any Estimator from tf.contrib.learn with an Estimator from tf.estimator.*\n",
            "WARNING:tensorflow:From /tensorflow-1.15.2/python3.6/tensorflow_core/contrib/learn/python/learn/estimators/estimator.py:427: RunConfig.__init__ (from tensorflow.contrib.learn.python.learn.estimators.run_config) is deprecated and will be removed in a future version.\n",
            "Instructions for updating:\n",
            "When switching to tf.estimator.Estimator, use tf.estimator.RunConfig instead.\n",
            "INFO:tensorflow:Using default config.\n",
            "INFO:tensorflow:Using config: {'_task_type': None, '_task_id': 0, '_cluster_spec': <tensorflow.python.training.server_lib.ClusterSpec object at 0x7effe205ee48>, '_master': '', '_num_ps_replicas': 0, '_num_worker_replicas': 0, '_environment': 'local', '_is_chief': True, '_evaluation_master': '', '_train_distribute': None, '_eval_distribute': None, '_experimental_max_worker_delay_secs': None, '_device_fn': None, '_tf_config': gpu_options {\n",
            "  per_process_gpu_memory_fraction: 1.0\n",
            "}\n",
            ", '_tf_random_seed': None, '_save_summary_steps': 100, '_save_checkpoints_secs': 600, '_log_step_count_steps': 100, '_protocol': None, '_session_config': None, '_save_checkpoints_steps': None, '_keep_checkpoint_max': 5, '_keep_checkpoint_every_n_hours': 10000, '_model_dir': '/tmp/linear_regression_trained_model_windspeed', '_session_creation_timeout_secs': 7200}\n",
            "WARNING:tensorflow:From <ipython-input-13-2d77c726fa99>:6: SKCompat.__init__ (from tensorflow.contrib.learn.python.learn.estimators.estimator) is deprecated and will be removed in a future version.\n",
            "Instructions for updating:\n",
            "Please switch to the Estimator interface.\n"
          ],
          "name": "stdout"
        }
      ]
    },
    {
      "cell_type": "code",
      "metadata": {
        "id": "EbxmLFtlqkby"
      },
      "source": [
        "#print(\"starting to train \");"
      ],
      "execution_count": null,
      "outputs": []
    },
    {
      "cell_type": "code",
      "metadata": {
        "id": "-_00QFEmq2JW",
        "colab": {
          "base_uri": "https://localhost:8080/"
        },
        "outputId": "e908082e-9579-4676-9a8b-e1b54995d7c5"
      },
      "source": [
        "#estimator.fit(predictors[:trainsize].values, targets[:trainsize].values.reshape(trainsize, noutputs)/SCALE_NUM_TRIPS, steps=10000)\r\n",
        "print(target[:training_set].values.reshape(training_set,num_target)/SCALE)\r\n",
        "\r\n",
        "try:\r\n",
        "  estimator.fit(predictors[:training_set].values, target[:training_set].values.reshape(training_set,num_target)/SCALE, steps = 10000)\r\n",
        "except Exception as e:\r\n",
        "  print(f\"oops{e}\")"
      ],
      "execution_count": null,
      "outputs": [
        {
          "output_type": "stream",
          "text": [
            "[[0.695  ]\n",
            " [0.625  ]\n",
            " [0.58875]\n",
            " ...\n",
            " [0.9875 ]\n",
            " [0.8875 ]\n",
            " [0.8    ]]\n",
            "WARNING:tensorflow:From /tensorflow-1.15.2/python3.6/tensorflow_core/contrib/learn/python/learn/learn_io/data_feeder.py:102: extract_pandas_labels (from tensorflow.contrib.learn.python.learn.learn_io.pandas_io) is deprecated and will be removed in a future version.\n",
            "Instructions for updating:\n",
            "Please access pandas data directly.\n",
            "WARNING:tensorflow:float64 is not supported by many models, consider casting to float32.\n",
            "WARNING:tensorflow:float64 is not supported by many models, consider casting to float32.\n",
            "WARNING:tensorflow:From /tensorflow-1.15.2/python3.6/tensorflow_core/python/training/training_util.py:236: Variable.initialized_value (from tensorflow.python.ops.variables) is deprecated and will be removed in a future version.\n",
            "Instructions for updating:\n",
            "Use Variable.read_value. Variables in 2.X are initialized automatically both in eager and graph (inside tf.defun) contexts.\n",
            "WARNING:tensorflow:From /tensorflow-1.15.2/python3.6/tensorflow_core/contrib/learn/python/learn/estimators/head.py:678: ModelFnOps.__new__ (from tensorflow.contrib.learn.python.learn.estimators.model_fn) is deprecated and will be removed in a future version.\n",
            "Instructions for updating:\n",
            "When switching to tf.estimator.Estimator, use tf.estimator.EstimatorSpec. You can use the `estimator_spec` method to create an equivalent one.\n",
            "INFO:tensorflow:Create CheckpointSaverHook.\n",
            "WARNING:tensorflow:From /tensorflow-1.15.2/python3.6/tensorflow_core/python/ops/array_ops.py:1475: where (from tensorflow.python.ops.array_ops) is deprecated and will be removed in a future version.\n",
            "Instructions for updating:\n",
            "Use tf.where in 2.0, which has the same broadcast rule as np.where\n",
            "INFO:tensorflow:Graph was finalized.\n",
            "INFO:tensorflow:Running local_init_op.\n",
            "INFO:tensorflow:Done running local_init_op.\n",
            "INFO:tensorflow:Saving checkpoints for 0 into /tmp/linear_regression_trained_model_windspeed/model.ckpt.\n",
            "INFO:tensorflow:loss = 0.5433829, step = 1\n",
            "WARNING:tensorflow:It seems that global step (tf.train.get_global_step) has not been increased. Current value (could be stable): 20 vs previous value: 20. You could increase the global step by passing tf.train.get_global_step() to Optimizer.apply_gradients or Optimizer.minimize.\n",
            "INFO:tensorflow:global_step/sec: 594.527\n",
            "INFO:tensorflow:loss = 0.008648841, step = 101 (0.173 sec)\n",
            "INFO:tensorflow:global_step/sec: 701.583\n",
            "INFO:tensorflow:loss = 0.010053482, step = 201 (0.139 sec)\n",
            "INFO:tensorflow:global_step/sec: 729.031\n",
            "INFO:tensorflow:loss = 0.010673319, step = 301 (0.137 sec)\n",
            "INFO:tensorflow:global_step/sec: 895.108\n",
            "INFO:tensorflow:loss = 0.009676549, step = 401 (0.112 sec)\n",
            "INFO:tensorflow:global_step/sec: 851.767\n",
            "INFO:tensorflow:loss = 0.007812232, step = 501 (0.118 sec)\n",
            "INFO:tensorflow:global_step/sec: 932.43\n",
            "INFO:tensorflow:loss = 0.011742348, step = 601 (0.106 sec)\n",
            "INFO:tensorflow:global_step/sec: 954.922\n",
            "INFO:tensorflow:loss = 0.0073857945, step = 701 (0.105 sec)\n",
            "INFO:tensorflow:global_step/sec: 936.254\n",
            "INFO:tensorflow:loss = 0.0085281, step = 801 (0.107 sec)\n",
            "INFO:tensorflow:global_step/sec: 862.566\n",
            "INFO:tensorflow:loss = 0.012715929, step = 901 (0.117 sec)\n",
            "INFO:tensorflow:global_step/sec: 931.43\n",
            "INFO:tensorflow:loss = 0.01571479, step = 1001 (0.108 sec)\n",
            "INFO:tensorflow:global_step/sec: 950.613\n",
            "INFO:tensorflow:loss = 0.014370501, step = 1101 (0.103 sec)\n",
            "INFO:tensorflow:global_step/sec: 861.124\n",
            "INFO:tensorflow:loss = 0.01342399, step = 1201 (0.119 sec)\n",
            "WARNING:tensorflow:It seems that global step (tf.train.get_global_step) has not been increased. Current value (could be stable): 1235 vs previous value: 1235. You could increase the global step by passing tf.train.get_global_step() to Optimizer.apply_gradients or Optimizer.minimize.\n",
            "INFO:tensorflow:global_step/sec: 919.523\n",
            "INFO:tensorflow:loss = 0.01260529, step = 1301 (0.106 sec)\n",
            "INFO:tensorflow:global_step/sec: 942.737\n",
            "INFO:tensorflow:loss = 0.039301462, step = 1401 (0.109 sec)\n",
            "INFO:tensorflow:global_step/sec: 980.154\n",
            "INFO:tensorflow:loss = 0.009331068, step = 1501 (0.103 sec)\n",
            "INFO:tensorflow:global_step/sec: 915.096\n",
            "INFO:tensorflow:loss = 0.016455654, step = 1601 (0.108 sec)\n",
            "INFO:tensorflow:global_step/sec: 891.455\n",
            "INFO:tensorflow:loss = 0.13512084, step = 1701 (0.109 sec)\n",
            "INFO:tensorflow:global_step/sec: 905.85\n",
            "INFO:tensorflow:loss = 0.009437343, step = 1801 (0.110 sec)\n",
            "INFO:tensorflow:global_step/sec: 911.231\n",
            "INFO:tensorflow:loss = 0.014955687, step = 1901 (0.110 sec)\n",
            "INFO:tensorflow:global_step/sec: 857.152\n",
            "INFO:tensorflow:loss = 0.011311766, step = 2001 (0.118 sec)\n",
            "INFO:tensorflow:global_step/sec: 858.647\n",
            "INFO:tensorflow:loss = 0.02190277, step = 2101 (0.116 sec)\n",
            "INFO:tensorflow:global_step/sec: 964.414\n",
            "INFO:tensorflow:loss = 0.34055305, step = 2201 (0.106 sec)\n",
            "INFO:tensorflow:global_step/sec: 958.521\n",
            "INFO:tensorflow:loss = 0.016191654, step = 2301 (0.102 sec)\n",
            "INFO:tensorflow:global_step/sec: 938.191\n",
            "INFO:tensorflow:loss = 0.009418409, step = 2401 (0.107 sec)\n",
            "INFO:tensorflow:global_step/sec: 919.751\n",
            "INFO:tensorflow:loss = 0.01949638, step = 2501 (0.108 sec)\n",
            "INFO:tensorflow:global_step/sec: 922.364\n",
            "INFO:tensorflow:loss = 0.012650727, step = 2601 (0.112 sec)\n",
            "INFO:tensorflow:global_step/sec: 905.811\n",
            "INFO:tensorflow:loss = 0.013354729, step = 2701 (0.107 sec)\n",
            "INFO:tensorflow:global_step/sec: 897.072\n",
            "INFO:tensorflow:loss = 0.010983352, step = 2801 (0.115 sec)\n",
            "INFO:tensorflow:global_step/sec: 945.321\n",
            "INFO:tensorflow:loss = 0.025981035, step = 2901 (0.104 sec)\n",
            "INFO:tensorflow:global_step/sec: 885.696\n",
            "INFO:tensorflow:loss = 0.026904639, step = 3001 (0.113 sec)\n",
            "INFO:tensorflow:global_step/sec: 882.896\n",
            "INFO:tensorflow:loss = 0.011567949, step = 3101 (0.117 sec)\n",
            "INFO:tensorflow:global_step/sec: 956.577\n",
            "INFO:tensorflow:loss = 0.09771039, step = 3201 (0.101 sec)\n",
            "INFO:tensorflow:global_step/sec: 975.674\n",
            "INFO:tensorflow:loss = 0.016753554, step = 3301 (0.102 sec)\n",
            "WARNING:tensorflow:It seems that global step (tf.train.get_global_step) has not been increased. Current value (could be stable): 3301 vs previous value: 3301. You could increase the global step by passing tf.train.get_global_step() to Optimizer.apply_gradients or Optimizer.minimize.\n",
            "INFO:tensorflow:global_step/sec: 917.666\n",
            "INFO:tensorflow:loss = 0.031983256, step = 3401 (0.108 sec)\n",
            "INFO:tensorflow:global_step/sec: 979.364\n",
            "INFO:tensorflow:loss = 0.03063421, step = 3501 (0.102 sec)\n",
            "INFO:tensorflow:global_step/sec: 800.192\n",
            "INFO:tensorflow:loss = 0.27887705, step = 3601 (0.128 sec)\n",
            "INFO:tensorflow:global_step/sec: 868.954\n",
            "INFO:tensorflow:loss = 0.008850053, step = 3701 (0.112 sec)\n",
            "WARNING:tensorflow:It seems that global step (tf.train.get_global_step) has not been increased. Current value (could be stable): 3701 vs previous value: 3701. You could increase the global step by passing tf.train.get_global_step() to Optimizer.apply_gradients or Optimizer.minimize.\n",
            "INFO:tensorflow:global_step/sec: 931.749\n",
            "INFO:tensorflow:loss = 0.026315898, step = 3801 (0.109 sec)\n",
            "INFO:tensorflow:global_step/sec: 899.963\n",
            "INFO:tensorflow:loss = 0.019667711, step = 3901 (0.117 sec)\n",
            "WARNING:tensorflow:It seems that global step (tf.train.get_global_step) has not been increased. Current value (could be stable): 3901 vs previous value: 3901. You could increase the global step by passing tf.train.get_global_step() to Optimizer.apply_gradients or Optimizer.minimize.\n",
            "INFO:tensorflow:global_step/sec: 871.232\n",
            "INFO:tensorflow:loss = 0.01008843, step = 4001 (0.107 sec)\n",
            "INFO:tensorflow:global_step/sec: 924.976\n",
            "INFO:tensorflow:loss = 0.02490069, step = 4101 (0.112 sec)\n",
            "INFO:tensorflow:global_step/sec: 866.144\n",
            "INFO:tensorflow:loss = 0.04924, step = 4201 (0.113 sec)\n",
            "INFO:tensorflow:global_step/sec: 853.747\n",
            "INFO:tensorflow:loss = 0.015114439, step = 4301 (0.121 sec)\n",
            "INFO:tensorflow:global_step/sec: 875.296\n",
            "INFO:tensorflow:loss = 0.20343615, step = 4401 (0.110 sec)\n",
            "INFO:tensorflow:global_step/sec: 904.36\n",
            "INFO:tensorflow:loss = 0.020577662, step = 4501 (0.111 sec)\n",
            "INFO:tensorflow:global_step/sec: 858.235\n",
            "INFO:tensorflow:loss = 0.012896724, step = 4601 (0.120 sec)\n",
            "INFO:tensorflow:global_step/sec: 815.97\n",
            "INFO:tensorflow:loss = 0.024809416, step = 4701 (0.120 sec)\n",
            "INFO:tensorflow:global_step/sec: 913.521\n",
            "INFO:tensorflow:loss = 0.018127905, step = 4801 (0.109 sec)\n",
            "INFO:tensorflow:global_step/sec: 948.084\n",
            "INFO:tensorflow:loss = 0.014762107, step = 4901 (0.109 sec)\n",
            "INFO:tensorflow:global_step/sec: 962.102\n",
            "INFO:tensorflow:loss = 0.01268529, step = 5001 (0.101 sec)\n",
            "INFO:tensorflow:global_step/sec: 1001.37\n",
            "INFO:tensorflow:loss = 0.023268223, step = 5101 (0.100 sec)\n",
            "INFO:tensorflow:global_step/sec: 942.013\n",
            "INFO:tensorflow:loss = 0.03217969, step = 5201 (0.106 sec)\n",
            "INFO:tensorflow:global_step/sec: 988.195\n",
            "INFO:tensorflow:loss = 0.300269, step = 5301 (0.106 sec)\n",
            "INFO:tensorflow:global_step/sec: 925.16\n",
            "INFO:tensorflow:loss = 0.0112415515, step = 5401 (0.103 sec)\n",
            "INFO:tensorflow:global_step/sec: 961.917\n",
            "INFO:tensorflow:loss = 0.011146545, step = 5501 (0.104 sec)\n",
            "INFO:tensorflow:global_step/sec: 995.135\n",
            "INFO:tensorflow:loss = 0.03332479, step = 5601 (0.100 sec)\n",
            "INFO:tensorflow:global_step/sec: 973.172\n",
            "INFO:tensorflow:loss = 0.010235568, step = 5701 (0.103 sec)\n",
            "INFO:tensorflow:global_step/sec: 907.349\n",
            "INFO:tensorflow:loss = 0.04119323, step = 5801 (0.110 sec)\n",
            "INFO:tensorflow:global_step/sec: 966.563\n",
            "INFO:tensorflow:loss = 0.02637311, step = 5901 (0.106 sec)\n",
            "INFO:tensorflow:global_step/sec: 887.806\n",
            "INFO:tensorflow:loss = 0.012816909, step = 6001 (0.110 sec)\n",
            "INFO:tensorflow:global_step/sec: 994.875\n",
            "INFO:tensorflow:loss = 0.5233346, step = 6101 (0.100 sec)\n",
            "INFO:tensorflow:global_step/sec: 954.779\n",
            "INFO:tensorflow:loss = 0.018701077, step = 6201 (0.105 sec)\n",
            "INFO:tensorflow:global_step/sec: 844.653\n",
            "INFO:tensorflow:loss = 0.014073819, step = 6301 (0.122 sec)\n",
            "INFO:tensorflow:global_step/sec: 810.339\n",
            "INFO:tensorflow:loss = 0.03316696, step = 6401 (0.122 sec)\n",
            "INFO:tensorflow:global_step/sec: 860.727\n",
            "INFO:tensorflow:loss = 0.18797731, step = 6501 (0.115 sec)\n",
            "INFO:tensorflow:global_step/sec: 928.106\n",
            "INFO:tensorflow:loss = 0.04483378, step = 6601 (0.107 sec)\n",
            "INFO:tensorflow:global_step/sec: 820.06\n",
            "INFO:tensorflow:loss = 0.22023451, step = 6701 (0.124 sec)\n",
            "INFO:tensorflow:global_step/sec: 899.251\n",
            "INFO:tensorflow:loss = 0.016028017, step = 6801 (0.113 sec)\n",
            "INFO:tensorflow:global_step/sec: 885.609\n",
            "INFO:tensorflow:loss = 0.010672216, step = 6901 (0.113 sec)\n",
            "INFO:tensorflow:global_step/sec: 804.978\n",
            "INFO:tensorflow:loss = 0.06068354, step = 7001 (0.125 sec)\n",
            "INFO:tensorflow:global_step/sec: 888.688\n",
            "INFO:tensorflow:loss = 0.0113436915, step = 7101 (0.109 sec)\n",
            "INFO:tensorflow:global_step/sec: 924.271\n",
            "INFO:tensorflow:loss = 0.03184806, step = 7201 (0.112 sec)\n",
            "INFO:tensorflow:global_step/sec: 851.912\n",
            "INFO:tensorflow:loss = 0.20136984, step = 7301 (0.115 sec)\n",
            "INFO:tensorflow:global_step/sec: 742.212\n",
            "INFO:tensorflow:loss = 0.037550196, step = 7401 (0.134 sec)\n",
            "INFO:tensorflow:global_step/sec: 915.237\n",
            "INFO:tensorflow:loss = 0.046490494, step = 7501 (0.109 sec)\n",
            "INFO:tensorflow:global_step/sec: 851.784\n",
            "INFO:tensorflow:loss = 0.08735978, step = 7601 (0.117 sec)\n",
            "INFO:tensorflow:global_step/sec: 952.891\n",
            "INFO:tensorflow:loss = 0.1031297, step = 7701 (0.107 sec)\n",
            "INFO:tensorflow:global_step/sec: 982.238\n",
            "INFO:tensorflow:loss = 0.015477007, step = 7801 (0.099 sec)\n",
            "INFO:tensorflow:global_step/sec: 828.922\n",
            "INFO:tensorflow:loss = 0.029315319, step = 7901 (0.122 sec)\n",
            "INFO:tensorflow:global_step/sec: 908.676\n",
            "INFO:tensorflow:loss = 0.014791042, step = 8001 (0.108 sec)\n",
            "INFO:tensorflow:global_step/sec: 897.571\n",
            "INFO:tensorflow:loss = 0.023284093, step = 8101 (0.115 sec)\n",
            "INFO:tensorflow:global_step/sec: 920.732\n",
            "INFO:tensorflow:loss = 0.020017628, step = 8201 (0.105 sec)\n",
            "INFO:tensorflow:global_step/sec: 894.03\n",
            "INFO:tensorflow:loss = 0.012111567, step = 8301 (0.115 sec)\n",
            "INFO:tensorflow:global_step/sec: 872.479\n",
            "INFO:tensorflow:loss = 0.014505543, step = 8401 (0.115 sec)\n",
            "INFO:tensorflow:global_step/sec: 851.089\n",
            "INFO:tensorflow:loss = 0.05244176, step = 8501 (0.117 sec)\n",
            "INFO:tensorflow:global_step/sec: 928.132\n",
            "INFO:tensorflow:loss = 0.010407272, step = 8601 (0.106 sec)\n",
            "INFO:tensorflow:global_step/sec: 934.603\n",
            "INFO:tensorflow:loss = 0.038879246, step = 8701 (0.109 sec)\n",
            "INFO:tensorflow:global_step/sec: 929.887\n",
            "INFO:tensorflow:loss = 0.08524175, step = 8801 (0.104 sec)\n",
            "INFO:tensorflow:global_step/sec: 800.741\n",
            "INFO:tensorflow:loss = 0.025303502, step = 8901 (0.126 sec)\n",
            "INFO:tensorflow:global_step/sec: 865.621\n",
            "INFO:tensorflow:loss = 0.010429602, step = 9001 (0.119 sec)\n",
            "INFO:tensorflow:global_step/sec: 810.625\n",
            "INFO:tensorflow:loss = 0.042792097, step = 9101 (0.119 sec)\n",
            "INFO:tensorflow:global_step/sec: 780.937\n",
            "INFO:tensorflow:loss = 0.017103247, step = 9201 (0.129 sec)\n",
            "INFO:tensorflow:global_step/sec: 817.027\n",
            "INFO:tensorflow:loss = 0.25622976, step = 9301 (0.123 sec)\n",
            "INFO:tensorflow:global_step/sec: 899.257\n",
            "INFO:tensorflow:loss = 0.01689835, step = 9401 (0.111 sec)\n",
            "INFO:tensorflow:global_step/sec: 960.683\n",
            "INFO:tensorflow:loss = 0.0712166, step = 9501 (0.106 sec)\n",
            "INFO:tensorflow:global_step/sec: 824.234\n",
            "INFO:tensorflow:loss = 0.014175461, step = 9601 (0.119 sec)\n",
            "INFO:tensorflow:global_step/sec: 900.313\n",
            "INFO:tensorflow:loss = 0.011067731, step = 9701 (0.113 sec)\n",
            "INFO:tensorflow:global_step/sec: 811.759\n",
            "INFO:tensorflow:loss = 0.13320021, step = 9801 (0.121 sec)\n",
            "INFO:tensorflow:global_step/sec: 828.675\n",
            "INFO:tensorflow:loss = 0.015593532, step = 9901 (0.120 sec)\n",
            "INFO:tensorflow:Saving checkpoints for 10000 into /tmp/linear_regression_trained_model_windspeed/model.ckpt.\n",
            "INFO:tensorflow:Loss for final step: 0.01251634.\n"
          ],
          "name": "stdout"
        }
      ]
    },
    {
      "cell_type": "code",
      "metadata": {
        "id": "RsJ2Mi1nx8vg",
        "colab": {
          "base_uri": "https://localhost:8080/"
        },
        "outputId": "13c6a01c-0956-4302-b56b-853e817f419d"
      },
      "source": [
        "\r\n",
        "preds = estimator.predict(x=predictors[training_set:].values) #check predictions based on predictors. nb, this gives warnings are consided acceptable"
      ],
      "execution_count": null,
      "outputs": [
        {
          "output_type": "stream",
          "text": [
            "WARNING:tensorflow:float64 is not supported by many models, consider casting to float32.\n",
            "INFO:tensorflow:Graph was finalized.\n",
            "INFO:tensorflow:Restoring parameters from /tmp/linear_regression_trained_model_windspeed/model.ckpt-10000\n",
            "INFO:tensorflow:Running local_init_op.\n",
            "INFO:tensorflow:Done running local_init_op.\n"
          ],
          "name": "stdout"
        }
      ]
    },
    {
      "cell_type": "code",
      "metadata": {
        "id": "Q2_R5uAWzJm8",
        "colab": {
          "base_uri": "https://localhost:8080/"
        },
        "outputId": "ff301953-90cb-43b6-e04b-00a5c5f62a9e"
      },
      "source": [
        "# Apply the Scale value to the outputs (as defined above )\r\n",
        "predslistscale = preds['scores']*SCALE\r\n",
        "print(predslistscale) # checking"
      ],
      "execution_count": null,
      "outputs": [
        {
          "output_type": "stream",
          "text": [
            "[567.8384  560.0125  439.95572 551.37384 417.94962 569.229   553.93225\n",
            " 439.26044 589.91077 532.6005  442.28543 421.7264  551.37384 441.89038\n",
            " 462.74963 490.01794 448.84348 450.92935 597.55914 483.23364 448.54315\n",
            " 337.9892  550.4557  553.4597  585.22107 571.83276 603.12164 516.38556\n",
            " 440.8948  447.60413 548.5926  399.8716  546.2838  594.0826  412.6874\n",
            " 582.2623  556.241   591.30133 525.42456 621.89496 329.94574 484.32797\n",
            " 420.48712 475.28897 626.0668  463.59625 453.41034 463.83997 614.2466\n",
            " 496.44452 634.41046 428.1355  432.5511  466.62122 431.1605  570.4421\n",
            " 596.86383 511.04593 466.22614 526.81525 488.57327 568.7566  599.645\n",
            " 456.49185 558.10406 584.34827 540.64795 592.692   485.02332 507.3466\n",
            " 547.89734 591.30133 477.74615 484.32797 554.6275  464.93277 451.6247\n",
            " 473.20303 588.52014 568.3562  530.2183  600.3404  427.44016 582.4399\n",
            " 545.116   578.26807 371.66425 396.      559.3172  408.51556 548.3698\n",
            " 504.7882  482.242   549.7604  461.75403 448.99472 419.34024 535.15894\n",
            " 570.4421  403.34814 484.6243  462.2056  468.33588 461.75403 431.46075\n",
            " 570.4421  496.1482  412.6874  416.31528 432.85135 509.4325  499.69815\n",
            " 526.3428  444.82288 471.19055 461.4562  554.1551  566.6706  441.91418\n",
            " 457.33844 512.2137  603.12164 540.9442  628.1527  556.0182  484.32797\n",
            " 537.1714  580.35394 503.10126 548.1922  443.67606 452.71503 599.645\n",
            " 560.8853  507.2731  548.5926  514.2997  553.93225 550.4557  420.35962\n",
            " 531.20996 508.66376 426.29333 482.61328 431.1605  499.92102 414.77338\n",
            " 492.6717  453.16656 505.18723 607.29346 443.97632 376.53137 543.3251\n",
            " 444.3713  481.67426 459.4244  469.72647 580.35394 596.86383 445.76196\n",
            " 530.98706 524.72925 437.74234 422.8168  525.42456 547.67444 539.8485\n",
            " 416.16397 513.8272  620.5043  472.80402 567.3659  416.16397 321.05804\n",
            " 473.20303 509.4325  527.51056 488.10083 536.0771  556.7135  394.6094\n",
            " 604.5122  405.19034 498.23413 506.57782 514.9215  476.67957 441.89038\n",
            " 442.28543 538.16296 480.92484 588.0023  478.19766 517.70276 369.7296\n",
            " 454.50314 484.4555  598.25446 576.69995 421.7264  585.04364 396.71912\n",
            " 569.0515  582.2623  536.0771  513.1319  576.18207 618.4184  621.1996\n",
            " 529.59644 498.23413 464.14023 390.43756 491.97635 587.8248  429.37485\n",
            " 478.07016 503.10126 549.2879  451.6247  384.20358 456.51566 393.61383\n",
            " 428.6795  435.6326  521.1793  468.46338 533.76825 452.32    537.2448\n",
            " 480.28363 587.8248  474.02582 513.8272  569.229   494.75757 561.5807\n",
            " 556.93634 546.9791  523.3387  484.40143 531.60895 558.3269  465.23062\n",
            " 591.0064  454.55722 417.70587 485.7186  494.0623  466.92148 413.08246\n",
            " 531.20996 588.52014 422.42175 508.96005 484.32797 528.72363 572.528\n",
            " 515.6168  585.7389  626.0668  586.4342  437.02322 565.0572  413.77777\n",
            " 457.33844 532.6005  454.4059  593.09235 565.28    530.51465 423.5121\n",
            " 456.1916  443.97632 373.20615 506.87408 435.78387 434.39325 413.38272\n",
            " 441.59012 530.29175 407.12494 455.9478  418.40118 461.51028 630.23865\n",
            " 502.40598 564.87964 546.80164 481.67426 465.55463 378.31708 488.10083\n",
            " 436.32788 376.23114 458.72906 396.39505 565.28    541.4166  475.28897\n",
            " 433.54663 426.7449  545.116   428.8308  441.34637 587.1295  465.92587\n",
            " 491.97635 385.96545 598.9497  441.34637 423.2683  453.01532 535.85425\n",
            " 442.9807  389.04697 515.6168  431.1605  439.10913 528.42865 611.46533\n",
            " 477.3511  439.95572 550.9735  450.92935 527.0381  461.05875 526.3428\n",
            " 486.41385 529.59644 464.14023 581.2721  597.55914 421.87772 486.41385\n",
            " 452.01974 505.18723 448.54315 459.4244  568.0613  472.63522 424.50766\n",
            " 612.1606  389.04697 529.523   480.9789  479.0618  561.80347 638.58234\n",
            " 422.1215  581.04926 441.59012 474.72113 548.5926  421.7264  563.4891\n",
            " 446.06223 458.03375 530.91364 477.05084 455.9478  456.8869  620.5043\n",
            " 438.1136  462.0543  516.31213 544.19794 612.8559  450.92935 504.4919\n",
            " 481.67426 420.03555 526.81525 603.8169  605.2075  453.41034 527.33295\n",
            " 474.59363 535.3818  560.7078  539.55365 514.22626 607.29346 438.56516\n",
            " 612.1606  427.44016 410.60153 372.35953 473.20303 581.2721  404.0435\n",
            " 424.9027  512.2137  503.87    475.26517 469.0074  462.2056  453.01532\n",
            " 585.7389  515.6168  477.50238 525.42456 516.31213 430.07013 417.94962\n",
            " 536.0771  426.7449  394.6094  553.93225 399.8716  509.35907 580.35394\n",
            " 438.4376  341.22195 410.99652 475.98428 388.7467  576.18207 477.50238\n",
            " 496.1482  461.359   457.88245 569.74677 479.46082 534.68646 504.0929\n",
            " 451.64847 630.93396 539.55365 568.3562  465.68213 520.08496 552.5416\n",
            " 587.8248  436.02762 597.0413  418.24988 517.7762  436.32788 498.9294\n",
            " 459.66812 495.45288 612.8559  458.97284 555.3228  528.42865 425.35428\n",
            " 453.41034 498.5304  541.23914 432.30734 454.10565 423.11707 579.8815\n",
            " 454.42972 598.9497  498.23413 478.7655  549.9832  425.59805 476.67957\n",
            " 448.99472 502.40598 436.72296 457.21094 583.35803 429.76984 484.6243\n",
            " 517.70276 451.08066 429.52612 570.4421  529.12396 407.52002 535.85425\n",
            " 450.38538 507.9684  485.8461  392.52347 517.3038  467.6406  486.41385\n",
            " 454.801   479.7571  570.4421  456.64316 366.10178 486.08984 427.2889\n",
            " 429.0746  570.6196  488.17578 519.8621  549.0651  408.9106  440.8948\n",
            " 552.36414 410.60153 442.0417  413.08246 412.31223 599.645   416.55902\n",
            " 529.8193  441.19507 435.33234 508.96005 449.9338  570.14716 523.26526\n",
            " 464.29153 532.9995  441.89038 575.70966 450.23407 443.28098 566.44775\n",
            " 268.9099  591.0064  469.0074  403.7997  482.21826 551.8463  426.04956\n",
            " 507.9684 ]\n"
          ],
          "name": "stdout"
        }
      ]
    },
    {
      "cell_type": "code",
      "metadata": {
        "id": "PmlK4yPlypwp",
        "colab": {
          "base_uri": "https://localhost:8080/"
        },
        "outputId": "5337a3ca-7119-43f2-ce0c-1566ae8225ba"
      },
      "source": [
        "rmse = np.sqrt(np.mean((target[training_set:].values - predslistscale)**2))\r\n",
        "print('LinearRegression has RMSE of {0}'.format(rmse)); # root-mean-square error (RMSE) is a frequently used measure of differences between values"
      ],
      "execution_count": null,
      "outputs": [
        {
          "output_type": "stream",
          "text": [
            "LinearRegression has RMSE of 134.5742595937697\n"
          ],
          "name": "stdout"
        }
      ]
    },
    {
      "cell_type": "code",
      "metadata": {
        "id": "q5LEaDpI4zTB"
      },
      "source": [
        "avg = np.mean(shuffled_df['collisions'] [:training_set] )  # to get mean of collisions"
      ],
      "execution_count": null,
      "outputs": []
    },
    {
      "cell_type": "markdown",
      "metadata": {
        "id": "DgPPUXRzypgV"
      },
      "source": [
        ""
      ]
    },
    {
      "cell_type": "code",
      "metadata": {
        "colab": {
          "base_uri": "https://localhost:8080/"
        },
        "id": "5lOMFB-m7Unw",
        "outputId": "0bd8badf-c581-4f83-f331-adcc1e01361b"
      },
      "source": [
        "# now to calculate the RMSE this uses the collisions and the mean of all target values\r\n",
        "rmse = np.sqrt(np.mean(( shuffled_df['collisions'][training_set:]- avg)**2))\r\n",
        "print('Using average = {0} has RMSE of {1}'.format(avg, rmse));"
      ],
      "execution_count": null,
      "outputs": [
        {
          "output_type": "stream",
          "text": [
            "Using average = 591.4412743699477 has RMSE of 93.15178767428614\n"
          ],
          "name": "stdout"
        }
      ]
    },
    {
      "cell_type": "markdown",
      "metadata": {
        "id": "LL6s5qoVC7K5"
      },
      "source": [
        "Now that the model has been built and tested, the next step is to take some of the data that was retained from the original dataset.\r\n",
        "\r\n",
        "As seen above, in order to introduce a randomness into the selection of data retained for this purpose, the original collisions dataset had been shuffled before  *model_testing_df*  was selected. \r\n",
        "\r\n",
        "As this data has not been used in the model training, the required data can be obtained to input into the model to check fit fit.  \r\n",
        "\r\n",
        " \r\n"
      ]
    },
    {
      "cell_type": "code",
      "metadata": {
        "colab": {
          "base_uri": "https://localhost:8080/"
        },
        "id": "6CA23KJKD-Ff",
        "outputId": "bf06795d-4973-42a5-90d1-643f73a9f44e"
      },
      "source": [
        "print(model_testing_df)  # the 100 rows removed from the dataset before building the model\r\n"
      ],
      "execution_count": null,
      "outputs": [
        {
          "output_type": "stream",
          "text": [
            "      Fri  Mon  Sat  Sun  Thur  ...  visib  prcp   temp  wdsp  collisions\n",
            "1389    0    0    0    0     0  ...    4.2  0.00  72.50   7.6         747\n",
            "116     0    0    0    0     0  ...    4.4  0.03  42.60  12.4         497\n",
            "1395    1    0    0    0     0  ...   10.0  0.00  71.10   7.5         490\n",
            "1852    0    0    0    1     0  ...    9.0  0.22  63.70   6.4         480\n",
            "2453    0    0    0    0     0  ...   10.0  0.00  38.50  15.1         765\n",
            "...   ...  ...  ...  ...   ...  ...    ...   ...    ...   ...         ...\n",
            "803     0    0    1    0     0  ...    5.6  0.13  61.00   9.3         649\n",
            "1729    0    0    0    0     0  ...   10.0  0.01  71.70   4.7         550\n",
            "1551    0    0    0    1     0  ...    9.8  0.01  69.45   4.6         512\n",
            "933     1    0    0    0     0  ...    6.7  0.02  63.05   9.0         736\n",
            "846     0    0    0    0     0  ...    1.9  0.70  48.05  14.7         606\n",
            "\n",
            "[100 rows x 27 columns]\n"
          ],
          "name": "stdout"
        }
      ]
    },
    {
      "cell_type": "markdown",
      "metadata": {
        "id": "DIqoKJPbTHYS"
      },
      "source": [
        "Now the rows of retained data can been subdevided by each day of the week to use for testing and data for each day can be checked by print. \r\n",
        "Although the distribution of data across the days is random, it is to be expected that the spread will be even enough to produce enough values for each day of the week.        "
      ]
    },
    {
      "cell_type": "code",
      "metadata": {
        "colab": {
          "base_uri": "https://localhost:8080/"
        },
        "id": "C91yZqhuTzBt",
        "outputId": "637af44f-9180-41a6-a709-7cf3aeba6f93"
      },
      "source": [
        "# Sunday data for testing\r\n",
        "sun_model_testing_df = model_testing_df[(model_testing_df.Sun ==1)]\r\n",
        "print(sun_model_testing_df)"
      ],
      "execution_count": null,
      "outputs": [
        {
          "output_type": "stream",
          "text": [
            "      Fri  Mon  Sat  Sun  Thur  ...  visib  prcp   temp  wdsp  collisions\n",
            "1852    0    0    0    1     0  ...    9.0  0.22  63.70   6.4         480\n",
            "2297    0    0    0    1     0  ...   10.0  0.00  45.95   7.5         479\n",
            "827     0    0    0    1     0  ...   10.0  0.26  52.10  13.4         448\n",
            "2558    0    0    0    1     0  ...   10.0  0.00  36.05   7.5         409\n",
            "389     0    0    0    1     0  ...   10.0  0.00  36.95  16.6         509\n",
            "1788    0    0    0    1     0  ...   10.0  0.00  66.50  13.6         482\n",
            "2443    0    0    0    1     0  ...    8.8  0.05  51.10  12.0         415\n",
            "1509    0    0    0    1     0  ...    9.3  0.00  70.50  10.1         512\n",
            "2250    0    0    0    1     0  ...   10.0  0.01  53.95  13.8         512\n",
            "964     0    0    0    1     0  ...   10.0  0.00  52.00   6.8         618\n",
            "2475    0    0    0    1     0  ...    5.5  0.13  45.50  14.4         529\n",
            "2423    0    0    0    1     0  ...   10.0  0.00  55.90  11.0         472\n",
            "1032    0    0    0    1     0  ...    9.4  0.00  64.05   9.1         543\n",
            "1792    0    0    0    1     0  ...   10.0  0.00  65.60   3.0         475\n",
            "944     0    0    0    1     0  ...   10.0  0.00  67.00   7.7         566\n",
            "784     0    0    0    1     0  ...   10.0  0.05  45.50  12.5         422\n",
            "2141    0    0    0    1     0  ...   10.0  0.00  56.00  11.4         502\n",
            "1812    0    0    0    1     0  ...   10.0  0.00  67.45   5.0         528\n",
            "1848    0    0    0    1     0  ...    8.8  0.02  63.50   8.2         604\n",
            "707     0    0    0    1     0  ...    2.7  0.04  56.50   7.7         457\n",
            "1822    0    0    0    1     0  ...   10.0  0.00  67.45   6.9         473\n",
            "2032    0    0    0    1     0  ...   10.0  0.00  56.90   6.9         528\n",
            "176     0    0    0    1     0  ...   10.0  0.00  43.00  15.5         432\n",
            "2716    0    0    0    1     0  ...    8.0  0.84  51.00  19.8         503\n",
            "1551    0    0    0    1     0  ...    9.8  0.01  69.45   4.6         512\n",
            "\n",
            "[25 rows x 27 columns]\n"
          ],
          "name": "stdout"
        }
      ]
    },
    {
      "cell_type": "code",
      "metadata": {
        "colab": {
          "base_uri": "https://localhost:8080/"
        },
        "id": "upjPDk5RTy1N",
        "outputId": "90c7f07f-fd9a-41d5-c830-19f83e6b95e4"
      },
      "source": [
        "#Monday data for testing \r\n",
        "mon_model_testing_df = model_testing_df[(model_testing_df.Mon ==1)]\r\n",
        "print(mon_model_testing_df )"
      ],
      "execution_count": null,
      "outputs": [
        {
          "output_type": "stream",
          "text": [
            "      Fri  Mon  Sat  Sun  Thur  ...  visib  prcp   temp  wdsp  collisions\n",
            "355     0    1    0    0     0  ...   10.0  0.02  37.50  14.4         567\n",
            "994     0    1    0    0     0  ...   10.0  0.03  62.00   9.6         652\n",
            "68      0    1    0    0     0  ...   10.0  0.00  32.00   6.2         477\n",
            "2450    0    1    0    0     0  ...   10.0  0.40  49.45  12.8         641\n",
            "986     0    1    0    0     0  ...    9.6  0.00  57.05  10.3         433\n",
            "354     0    1    0    0     0  ...   10.0  0.00  47.50  11.7         428\n",
            "294     0    1    0    0     0  ...    6.5  0.72  42.95  10.7         557\n",
            "2163    0    1    0    0     0  ...   10.0  0.36  44.00  11.7         650\n",
            "2209    0    1    0    0     0  ...    9.4  0.00  66.05   4.5         607\n",
            "2015    0    1    0    0     0  ...    8.2  0.11  66.50  12.3         662\n",
            "2517    0    1    0    0     0  ...    6.7  0.00  53.50   7.9         637\n",
            "\n",
            "[11 rows x 27 columns]\n"
          ],
          "name": "stdout"
        }
      ]
    },
    {
      "cell_type": "code",
      "metadata": {
        "colab": {
          "base_uri": "https://localhost:8080/"
        },
        "id": "PEHln0NtTyp-",
        "outputId": "d24afbae-14c9-4dbe-b433-056b767752e8"
      },
      "source": [
        "#Tuesday data for testing\r\n",
        "tue_model_testing_df = model_testing_df[(model_testing_df.Tue ==1)]\r\n",
        "print(tue_model_testing_df )"
      ],
      "execution_count": null,
      "outputs": [
        {
          "output_type": "stream",
          "text": [
            "      Fri  Mon  Sat  Sun  Thur  ...  visib  prcp   temp  wdsp  collisions\n",
            "2453    0    0    0    0     0  ...   10.0  0.00  38.50  15.1         765\n",
            "1831    0    0    0    0     0  ...    8.7  0.22  70.50   5.6         619\n",
            "434     0    0    0    0     0  ...   10.0  0.00  29.85  15.1         688\n",
            "346     0    0    0    0     0  ...   10.0  0.14  31.00   9.7         613\n",
            "2533    0    0    0    0     0  ...    7.3  0.20  37.50   7.3         700\n",
            "561     0    0    0    0     0  ...   10.0  0.00  38.45  10.8         610\n",
            "1149    0    0    0    0     0  ...    3.1  0.07  61.60   4.9         613\n",
            "2497    0    0    0    0     0  ...    9.6  0.00  40.55   4.2         645\n",
            "1080    0    0    0    0     0  ...    2.2  0.00  52.55  14.5         743\n",
            "51      0    0    0    0     0  ...   10.0  0.00  34.95   7.9         637\n",
            "1207    0    0    0    0     0  ...    7.5  0.34  61.60   8.7         613\n",
            "1981    0    0    0    0     0  ...    7.6  0.11  66.20   5.5         556\n",
            "1803    0    0    0    0     0  ...   10.0  0.00  64.50   6.2         605\n",
            "712     0    0    0    0     0  ...    8.3  0.31  48.05   7.6         587\n",
            "2394    0    0    0    0     0  ...    8.5  0.00  43.35   9.7         752\n",
            "2220    0    0    0    0     0  ...   10.0  0.00  53.95  12.1         736\n",
            "846     0    0    0    0     0  ...    1.9  0.70  48.05  14.7         606\n",
            "\n",
            "[17 rows x 27 columns]\n"
          ],
          "name": "stdout"
        }
      ]
    },
    {
      "cell_type": "code",
      "metadata": {
        "colab": {
          "base_uri": "https://localhost:8080/"
        },
        "id": "KLq6YC4gTyeS",
        "outputId": "cc0102f1-5b15-42f8-a7dd-28f726e84bde"
      },
      "source": [
        "#Wednesday data for testing\r\n",
        "wed_model_testing_df = model_testing_df[(model_testing_df.Wed ==1)]\r\n",
        "print(wed_model_testing_df )"
      ],
      "execution_count": null,
      "outputs": [
        {
          "output_type": "stream",
          "text": [
            "      Fri  Mon  Sat  Sun  Thur  ...  visib  prcp   temp  wdsp  collisions\n",
            "1389    0    0    0    0     0  ...    4.2  0.00  72.50   7.6         747\n",
            "116     0    0    0    0     0  ...    4.4  0.03  42.60  12.4         497\n",
            "1530    0    0    0    0     0  ...    5.1  0.02  69.95  12.3         569\n",
            "1766    0    0    0    0     0  ...    6.3  0.00  73.05  12.4         629\n",
            "1674    0    0    0    0     0  ...    7.2  1.01  70.50   7.9         643\n",
            "2644    0    0    0    0     0  ...    9.1  0.01  48.90   6.3         514\n",
            "1549    0    0    0    0     0  ...    9.8  0.00  70.55   1.7         504\n",
            "265     0    0    0    0     0  ...   10.0  0.00  26.95   7.6         585\n",
            "148     0    0    0    0     0  ...    7.0  0.35  42.10   8.8         578\n",
            "1629    0    0    0    0     0  ...   10.0  0.00  70.00   8.5         635\n",
            "209     0    0    0    0     0  ...    8.8  0.39  36.05  15.1         630\n",
            "1694    0    0    0    0     0  ...    9.2  0.30  74.50   7.4         606\n",
            "1876    0    0    0    0     0  ...    6.8  0.00  67.45  10.9         576\n",
            "1183    0    0    0    0     0  ...    9.3  0.00  68.00  10.3         754\n",
            "2513    0    0    0    0     0  ...    9.8  0.00  37.95   6.4         520\n",
            "1729    0    0    0    0     0  ...   10.0  0.01  71.70   4.7         550\n",
            "\n",
            "[16 rows x 27 columns]\n"
          ],
          "name": "stdout"
        }
      ]
    },
    {
      "cell_type": "code",
      "metadata": {
        "colab": {
          "base_uri": "https://localhost:8080/"
        },
        "id": "GJ8cptbATyTr",
        "outputId": "68b9c379-1e94-4020-8c7d-111ea5930966"
      },
      "source": [
        "#Thursday data for testing\r\n",
        "thu_model_testing_df = model_testing_df[(model_testing_df.Thur ==1)]\r\n",
        "print(thu_model_testing_df )"
      ],
      "execution_count": null,
      "outputs": [
        {
          "output_type": "stream",
          "text": [
            "      Fri  Mon  Sat  Sun  Thur  ...  visib  prcp   temp  wdsp  collisions\n",
            "1666    0    0    0    0     1  ...    8.6  0.00  69.45   8.5         560\n",
            "552     0    0    0    0     1  ...    9.7  0.49  37.05  10.4         557\n",
            "2213    0    0    0    0     1  ...    8.4  0.00  61.55  15.8         657\n",
            "658     0    0    0    0     1  ...    8.2  0.79  40.00  15.8         633\n",
            "1392    0    0    0    0     1  ...   10.0  0.00  63.50   7.3         610\n",
            "2646    0    0    0    0     1  ...   10.0  0.01  36.50   3.6         620\n",
            "1208    0    0    0    0     1  ...   10.0  0.00  60.50   8.7         534\n",
            "2335    0    0    0    0     1  ...   10.0  0.00  48.05   3.4         384\n",
            "\n",
            "[8 rows x 27 columns]\n"
          ],
          "name": "stdout"
        }
      ]
    },
    {
      "cell_type": "code",
      "metadata": {
        "colab": {
          "base_uri": "https://localhost:8080/"
        },
        "id": "LQ12tCdbDfPs",
        "outputId": "20d33553-4c5f-4d9e-dab7-f6214d3c4f10"
      },
      "source": [
        "#Friday data for testing\r\n",
        "fri_model_testing_df = model_testing_df[(model_testing_df.Fri ==1)]\r\n",
        "print(fri_model_testing_df )\r\n",
        "                       \r\n",
        "                               "
      ],
      "execution_count": null,
      "outputs": [
        {
          "output_type": "stream",
          "text": [
            "      Fri  Mon  Sat  Sun  Thur  ...  visib  prcp   temp  wdsp  collisions\n",
            "1395    1    0    0    0     0  ...   10.0  0.00  71.10   7.5         490\n",
            "154     1    0    0    0     0  ...   10.0  0.00  26.50  14.4         677\n",
            "1578    1    0    0    0     0  ...    9.0  0.01  66.45   5.3         667\n",
            "462     1    0    0    0     0  ...    9.5  0.00  39.45  10.8         673\n",
            "1044    1    0    0    0     0  ...    9.4  0.00  47.00  13.8         660\n",
            "2340    1    0    0    0     0  ...    9.8  0.00  49.50  11.0         621\n",
            "2548    1    0    0    0     0  ...   10.0  0.04  37.60   8.2         687\n",
            "216     1    0    0    0     0  ...   10.0  0.04  35.95  24.0         565\n",
            "21      1    0    0    0     0  ...   10.0  0.00  41.00   4.3         605\n",
            "590     1    0    0    0     0  ...    5.1  0.44  43.40  13.1         532\n",
            "2194    1    0    0    0     0  ...   10.0  0.00  59.95  13.3         621\n",
            "1691    1    0    0    0     0  ...   10.0  0.19  68.00   7.4         601\n",
            "1413    1    0    0    0     0  ...    9.0  0.00  71.10   8.9         707\n",
            "933     1    0    0    0     0  ...    6.7  0.02  63.05   9.0         736\n",
            "\n",
            "[14 rows x 27 columns]\n"
          ],
          "name": "stdout"
        }
      ]
    },
    {
      "cell_type": "code",
      "metadata": {
        "colab": {
          "base_uri": "https://localhost:8080/"
        },
        "id": "8B32J-f7Tx6J",
        "outputId": "35527e3e-d150-4b17-a980-720e17f51cea"
      },
      "source": [
        "#Saturday data for testing\r\n",
        "sat_model_testing_df = model_testing_df[(model_testing_df.Sat ==1)]\r\n",
        "print(sat_model_testing_df )"
      ],
      "execution_count": null,
      "outputs": [
        {
          "output_type": "stream",
          "text": [
            "      Fri  Mon  Sat  Sun  Thur  ...  visib  prcp   temp  wdsp  collisions\n",
            "430     0    0    1    0     0  ...    7.3  0.02  33.50  11.8         516\n",
            "2107    0    0    1    0     0  ...   10.0  0.00  53.05  10.9         586\n",
            "2311    0    0    1    0     0  ...    7.9  0.00  47.50   2.0         444\n",
            "1074    0    0    1    0     0  ...   10.0  0.00  48.50  13.7         580\n",
            "1155    0    0    1    0     0  ...   10.0  0.00  64.05   8.0         688\n",
            "292     0    0    1    0     0  ...    9.0  0.00  34.95  11.3         549\n",
            "2667    0    0    1    0     0  ...   10.0  0.03  37.95  12.9         566\n",
            "767     0    0    1    0     0  ...    9.2  0.07  48.05  10.3         587\n",
            "803     0    0    1    0     0  ...    5.6  0.13  61.00   9.3         649\n",
            "\n",
            "[9 rows x 27 columns]\n"
          ],
          "name": "stdout"
        }
      ]
    },
    {
      "cell_type": "markdown",
      "metadata": {
        "id": "D-_vFdCOWDNR"
      },
      "source": [
        "Now that the day specific data that was retained has been isolated, this can now be used to check for each specfic day."
      ]
    },
    {
      "cell_type": "code",
      "metadata": {
        "colab": {
          "base_uri": "https://localhost:8080/"
        },
        "id": "sgdv7UhLWSUQ",
        "outputId": "25d16bb0-46bc-4b77-89b1-150ad1ef4dce"
      },
      "source": [
        "input = sun_model_testing_df [:3]\r\n",
        "print(len(input[\"Sun\"])) # to examine df\r\n",
        "\r\n",
        "\r\n",
        "#for just windspeed and day\r\n",
        "input = mon_model_testing_df.iloc [:, [0,1,2,3,4,5,6, 25] ] \r\n",
        "print(len(input[\"Mon\"]))\r\n"
      ],
      "execution_count": null,
      "outputs": [
        {
          "output_type": "stream",
          "text": [
            "3\n",
            "11\n"
          ],
          "name": "stdout"
        }
      ]
    },
    {
      "cell_type": "markdown",
      "metadata": {
        "id": "vw_fcwd_taof"
      },
      "source": [
        "Having run the different models for individual days, being satisfied that the model functions in the way that was anticipated, the next stage is to develop  method to take a list of each of the days individually, and run through them in turn, returning the results for each day in turn.      "
      ]
    },
    {
      "cell_type": "code",
      "metadata": {
        "id": "mdDIjXd5ucwg"
      },
      "source": [
        "seven_days = ( sun_model_testing_df, mon_model_testing_df,tue_model_testing_df,wed_model_testing_df, thu_model_testing_df, fri_model_testing_df,sat_model_testing_df)\r\n",
        "#print (seven_days) \r\n",
        "\r\n",
        "############################  this is where I stopped #####################################\r\n",
        "\r\n",
        "\r\n"
      ],
      "execution_count": null,
      "outputs": []
    },
    {
      "cell_type": "code",
      "metadata": {
        "colab": {
          "base_uri": "https://localhost:8080/"
        },
        "id": "xmz9XB7zWoiu",
        "outputId": "b177e49b-ef3b-4f48-c1f0-0b3b3def2684"
      },
      "source": [
        "estimator = tf.contrib.learn.SKCompat(tf.contrib.learn.LinearRegressor(model_dir= '/tmp/linear_regression_trained_model_windspeed', enable_centered_bias=False, \r\n",
        "                                                                       feature_columns=tf.contrib.learn.infer_real_valued_columns_from_input(input.values)))\r\n",
        "\r\n",
        "preds = estimator.predict(x= input.values)\r\n",
        "\r\n",
        "# number of collisions based upon the value of 800 from assessemnt part1\r\n",
        "predslistnorm = preds['scores']\r\n",
        "predslistscale = preds['scores']*800\r\n",
        "print(predslistnorm)\r\n",
        "prednorm = format(str(predslistnorm))\r\n",
        "pred = format(str(predslistscale))\r\n",
        "print(prednorm)\r\n",
        "print(pred)\r\n",
        " "
      ],
      "execution_count": null,
      "outputs": [
        {
          "output_type": "stream",
          "text": [
            "WARNING:tensorflow:float64 is not supported by many models, consider casting to float32.\n",
            "INFO:tensorflow:Using default config.\n",
            "INFO:tensorflow:Using config: {'_task_type': None, '_task_id': 0, '_cluster_spec': <tensorflow.python.training.server_lib.ClusterSpec object at 0x7effe0e1ca90>, '_master': '', '_num_ps_replicas': 0, '_num_worker_replicas': 0, '_environment': 'local', '_is_chief': True, '_evaluation_master': '', '_train_distribute': None, '_eval_distribute': None, '_experimental_max_worker_delay_secs': None, '_device_fn': None, '_tf_config': gpu_options {\n",
            "  per_process_gpu_memory_fraction: 1.0\n",
            "}\n",
            ", '_tf_random_seed': None, '_save_summary_steps': 100, '_save_checkpoints_secs': 600, '_log_step_count_steps': 100, '_protocol': None, '_session_config': None, '_save_checkpoints_steps': None, '_keep_checkpoint_max': 5, '_keep_checkpoint_every_n_hours': 10000, '_model_dir': '/tmp/linear_regression_trained_model_windspeed', '_session_creation_timeout_secs': 7200}\n",
            "WARNING:tensorflow:float64 is not supported by many models, consider casting to float32.\n",
            "INFO:tensorflow:Graph was finalized.\n",
            "INFO:tensorflow:Restoring parameters from /tmp/linear_regression_trained_model_windspeed/model.ckpt-10000\n",
            "INFO:tensorflow:Running local_init_op.\n",
            "INFO:tensorflow:Done running local_init_op.\n",
            "[0.50853086 0.55024934 0.57979995 0.52243704 0.54416543 0.53199756\n",
            " 0.5406889  0.53199756 0.5945753  0.5267827  0.5650247 ]\n",
            "[0.50853086 0.55024934 0.57979995 0.52243704 0.54416543 0.53199756\n",
            " 0.5406889  0.53199756 0.5945753  0.5267827  0.5650247 ]\n",
            "[406.82468 440.19946 463.83997 417.94962 435.33234 425.59805 432.5511\n",
            " 425.59805 475.66022 421.42615 452.01974]\n"
          ],
          "name": "stdout"
        }
      ]
    }
  ]
}